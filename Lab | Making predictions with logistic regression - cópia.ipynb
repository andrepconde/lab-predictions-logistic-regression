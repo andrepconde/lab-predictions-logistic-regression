{
 "cells": [
  {
   "cell_type": "markdown",
   "id": "fa1f3eb4",
   "metadata": {},
   "source": [
    "# Lab | Making predictions with logistic regression\n",
    "# ========================================\n",
    "\n",
    "### In order to optimize our inventory, we would like to know which films will be rented next month and we are asked to create a model to predict it.\n",
    "\n",
    "#### Instructions\n",
    "##### 1. Create a query or queries to extract the information you think may be relevant for building the prediction model. It should include some film features and some rental features.\n",
    "##### 2. Read the data into a Pandas dataframe.\n",
    "##### 3. Analyze extracted features and transform them. You may need to encode some categorical variables, or scale numerical variables.\n",
    "##### 4. Create a query to get the list of films and a boolean indicating if it was rented last month. This would be our target variable.\n",
    "##### 5. Create a logistic regression model to predict this variable from the cleaned data.\n",
    "##### 6. Evaluate the results."
   ]
  },
  {
   "cell_type": "code",
   "execution_count": 1,
   "id": "6fa4e9e2",
   "metadata": {},
   "outputs": [],
   "source": [
    "# Import Libraries\n",
    "\n",
    "from sqlalchemy import create_engine\n",
    "import pandas as pd\n",
    "from getpass import getpass \n",
    "\n",
    "import matplotlib\n",
    "import matplotlib.pyplot as plt\n",
    "import seaborn as sns\n",
    "import numpy as np\n",
    "\n",
    "from sklearn.metrics import confusion_matrix\n",
    "from sklearn.metrics import plot_confusion_matrix\n",
    "from sklearn.metrics import cohen_kappa_score\n",
    "from sklearn.metrics import accuracy_score, confusion_matrix, ConfusionMatrixDisplay\n",
    "\n",
    "from sklearn.model_selection import train_test_split\n",
    "from sklearn.linear_model import LogisticRegression\n",
    "from sklearn.metrics import accuracy_score\n",
    "\n",
    "from datetime import datetime\n",
    "\n",
    "import warnings\n",
    "warnings.filterwarnings('ignore')\n",
    "pd.set_option('display.max_columns', None)"
   ]
  },
  {
   "cell_type": "code",
   "execution_count": 2,
   "id": "f7a68cfa",
   "metadata": {},
   "outputs": [
    {
     "name": "stdout",
     "output_type": "stream",
     "text": [
      "INSERT YOUR PASSWORD: ········\n"
     ]
    }
   ],
   "source": [
    "password = getpass(\"INSERT YOUR PASSWORD: \")"
   ]
  },
  {
   "cell_type": "code",
   "execution_count": 3,
   "id": "38ee8dcf",
   "metadata": {},
   "outputs": [],
   "source": [
    "connection_string = 'mysql+pymysql://root:' + password + '@localhost/sakila'\n",
    "engine = create_engine(connection_string)"
   ]
  },
  {
   "cell_type": "markdown",
   "id": "40aebd85",
   "metadata": {},
   "source": [
    "### 1. Create query\n",
    "### 2. Read data into Pandas dataframe"
   ]
  },
  {
   "cell_type": "code",
   "execution_count": 4,
   "id": "c440f827",
   "metadata": {},
   "outputs": [
    {
     "data": {
      "text/html": [
       "<div>\n",
       "<style scoped>\n",
       "    .dataframe tbody tr th:only-of-type {\n",
       "        vertical-align: middle;\n",
       "    }\n",
       "\n",
       "    .dataframe tbody tr th {\n",
       "        vertical-align: top;\n",
       "    }\n",
       "\n",
       "    .dataframe thead th {\n",
       "        text-align: right;\n",
       "    }\n",
       "</style>\n",
       "<table border=\"1\" class=\"dataframe\">\n",
       "  <thead>\n",
       "    <tr style=\"text-align: right;\">\n",
       "      <th></th>\n",
       "      <th>category_id</th>\n",
       "      <th>film_id</th>\n",
       "      <th>inventory_id</th>\n",
       "      <th>rental_id</th>\n",
       "      <th>rental_date</th>\n",
       "      <th>customer_id</th>\n",
       "      <th>return_date</th>\n",
       "      <th>staff_id</th>\n",
       "      <th>last_update</th>\n",
       "      <th>store_id</th>\n",
       "      <th>last_update</th>\n",
       "      <th>title</th>\n",
       "      <th>description</th>\n",
       "      <th>release_year</th>\n",
       "      <th>language_id</th>\n",
       "      <th>original_language_id</th>\n",
       "      <th>rental_duration</th>\n",
       "      <th>rental_rate</th>\n",
       "      <th>length</th>\n",
       "      <th>replacement_cost</th>\n",
       "      <th>rating</th>\n",
       "      <th>special_features</th>\n",
       "      <th>last_update</th>\n",
       "      <th>last_update</th>\n",
       "      <th>name</th>\n",
       "      <th>last_update</th>\n",
       "    </tr>\n",
       "  </thead>\n",
       "  <tbody>\n",
       "    <tr>\n",
       "      <th>0</th>\n",
       "      <td>1</td>\n",
       "      <td>19</td>\n",
       "      <td>93</td>\n",
       "      <td>10895</td>\n",
       "      <td>2005-08-02 01:16:59</td>\n",
       "      <td>77</td>\n",
       "      <td>2005-08-03 02:41:59</td>\n",
       "      <td>2</td>\n",
       "      <td>2006-02-15 21:30:53</td>\n",
       "      <td>1</td>\n",
       "      <td>2006-02-15 05:09:17</td>\n",
       "      <td>AMADEUS HOLY</td>\n",
       "      <td>A Emotional Display of a Pioneer And a Technic...</td>\n",
       "      <td>2006</td>\n",
       "      <td>1</td>\n",
       "      <td>None</td>\n",
       "      <td>6</td>\n",
       "      <td>0.99</td>\n",
       "      <td>113</td>\n",
       "      <td>20.99</td>\n",
       "      <td>PG</td>\n",
       "      <td>Commentaries,Deleted Scenes,Behind the Scenes</td>\n",
       "      <td>2006-02-15 05:03:42</td>\n",
       "      <td>2006-02-15 05:07:09</td>\n",
       "      <td>Action</td>\n",
       "      <td>2006-02-15 04:46:27</td>\n",
       "    </tr>\n",
       "    <tr>\n",
       "      <th>1</th>\n",
       "      <td>1</td>\n",
       "      <td>19</td>\n",
       "      <td>93</td>\n",
       "      <td>12268</td>\n",
       "      <td>2005-08-18 04:26:54</td>\n",
       "      <td>39</td>\n",
       "      <td>2005-08-23 06:40:54</td>\n",
       "      <td>2</td>\n",
       "      <td>2006-02-15 21:30:53</td>\n",
       "      <td>1</td>\n",
       "      <td>2006-02-15 05:09:17</td>\n",
       "      <td>AMADEUS HOLY</td>\n",
       "      <td>A Emotional Display of a Pioneer And a Technic...</td>\n",
       "      <td>2006</td>\n",
       "      <td>1</td>\n",
       "      <td>None</td>\n",
       "      <td>6</td>\n",
       "      <td>0.99</td>\n",
       "      <td>113</td>\n",
       "      <td>20.99</td>\n",
       "      <td>PG</td>\n",
       "      <td>Commentaries,Deleted Scenes,Behind the Scenes</td>\n",
       "      <td>2006-02-15 05:03:42</td>\n",
       "      <td>2006-02-15 05:07:09</td>\n",
       "      <td>Action</td>\n",
       "      <td>2006-02-15 04:46:27</td>\n",
       "    </tr>\n",
       "    <tr>\n",
       "      <th>2</th>\n",
       "      <td>1</td>\n",
       "      <td>19</td>\n",
       "      <td>94</td>\n",
       "      <td>3150</td>\n",
       "      <td>2005-06-20 20:35:28</td>\n",
       "      <td>34</td>\n",
       "      <td>2005-06-26 01:01:28</td>\n",
       "      <td>1</td>\n",
       "      <td>2006-02-15 21:30:53</td>\n",
       "      <td>1</td>\n",
       "      <td>2006-02-15 05:09:17</td>\n",
       "      <td>AMADEUS HOLY</td>\n",
       "      <td>A Emotional Display of a Pioneer And a Technic...</td>\n",
       "      <td>2006</td>\n",
       "      <td>1</td>\n",
       "      <td>None</td>\n",
       "      <td>6</td>\n",
       "      <td>0.99</td>\n",
       "      <td>113</td>\n",
       "      <td>20.99</td>\n",
       "      <td>PG</td>\n",
       "      <td>Commentaries,Deleted Scenes,Behind the Scenes</td>\n",
       "      <td>2006-02-15 05:03:42</td>\n",
       "      <td>2006-02-15 05:07:09</td>\n",
       "      <td>Action</td>\n",
       "      <td>2006-02-15 04:46:27</td>\n",
       "    </tr>\n",
       "    <tr>\n",
       "      <th>3</th>\n",
       "      <td>1</td>\n",
       "      <td>19</td>\n",
       "      <td>94</td>\n",
       "      <td>5072</td>\n",
       "      <td>2005-07-09 05:01:58</td>\n",
       "      <td>254</td>\n",
       "      <td>2005-07-18 08:17:58</td>\n",
       "      <td>2</td>\n",
       "      <td>2006-02-15 21:30:53</td>\n",
       "      <td>1</td>\n",
       "      <td>2006-02-15 05:09:17</td>\n",
       "      <td>AMADEUS HOLY</td>\n",
       "      <td>A Emotional Display of a Pioneer And a Technic...</td>\n",
       "      <td>2006</td>\n",
       "      <td>1</td>\n",
       "      <td>None</td>\n",
       "      <td>6</td>\n",
       "      <td>0.99</td>\n",
       "      <td>113</td>\n",
       "      <td>20.99</td>\n",
       "      <td>PG</td>\n",
       "      <td>Commentaries,Deleted Scenes,Behind the Scenes</td>\n",
       "      <td>2006-02-15 05:03:42</td>\n",
       "      <td>2006-02-15 05:07:09</td>\n",
       "      <td>Action</td>\n",
       "      <td>2006-02-15 04:46:27</td>\n",
       "    </tr>\n",
       "    <tr>\n",
       "      <th>4</th>\n",
       "      <td>1</td>\n",
       "      <td>19</td>\n",
       "      <td>94</td>\n",
       "      <td>9080</td>\n",
       "      <td>2005-07-30 08:02:39</td>\n",
       "      <td>276</td>\n",
       "      <td>2005-08-06 12:02:39</td>\n",
       "      <td>1</td>\n",
       "      <td>2006-02-15 21:30:53</td>\n",
       "      <td>1</td>\n",
       "      <td>2006-02-15 05:09:17</td>\n",
       "      <td>AMADEUS HOLY</td>\n",
       "      <td>A Emotional Display of a Pioneer And a Technic...</td>\n",
       "      <td>2006</td>\n",
       "      <td>1</td>\n",
       "      <td>None</td>\n",
       "      <td>6</td>\n",
       "      <td>0.99</td>\n",
       "      <td>113</td>\n",
       "      <td>20.99</td>\n",
       "      <td>PG</td>\n",
       "      <td>Commentaries,Deleted Scenes,Behind the Scenes</td>\n",
       "      <td>2006-02-15 05:03:42</td>\n",
       "      <td>2006-02-15 05:07:09</td>\n",
       "      <td>Action</td>\n",
       "      <td>2006-02-15 04:46:27</td>\n",
       "    </tr>\n",
       "  </tbody>\n",
       "</table>\n",
       "</div>"
      ],
      "text/plain": [
       "   category_id  film_id  inventory_id  rental_id         rental_date  \\\n",
       "0            1       19            93      10895 2005-08-02 01:16:59   \n",
       "1            1       19            93      12268 2005-08-18 04:26:54   \n",
       "2            1       19            94       3150 2005-06-20 20:35:28   \n",
       "3            1       19            94       5072 2005-07-09 05:01:58   \n",
       "4            1       19            94       9080 2005-07-30 08:02:39   \n",
       "\n",
       "   customer_id         return_date  staff_id         last_update  store_id  \\\n",
       "0           77 2005-08-03 02:41:59         2 2006-02-15 21:30:53         1   \n",
       "1           39 2005-08-23 06:40:54         2 2006-02-15 21:30:53         1   \n",
       "2           34 2005-06-26 01:01:28         1 2006-02-15 21:30:53         1   \n",
       "3          254 2005-07-18 08:17:58         2 2006-02-15 21:30:53         1   \n",
       "4          276 2005-08-06 12:02:39         1 2006-02-15 21:30:53         1   \n",
       "\n",
       "          last_update         title  \\\n",
       "0 2006-02-15 05:09:17  AMADEUS HOLY   \n",
       "1 2006-02-15 05:09:17  AMADEUS HOLY   \n",
       "2 2006-02-15 05:09:17  AMADEUS HOLY   \n",
       "3 2006-02-15 05:09:17  AMADEUS HOLY   \n",
       "4 2006-02-15 05:09:17  AMADEUS HOLY   \n",
       "\n",
       "                                         description  release_year  \\\n",
       "0  A Emotional Display of a Pioneer And a Technic...          2006   \n",
       "1  A Emotional Display of a Pioneer And a Technic...          2006   \n",
       "2  A Emotional Display of a Pioneer And a Technic...          2006   \n",
       "3  A Emotional Display of a Pioneer And a Technic...          2006   \n",
       "4  A Emotional Display of a Pioneer And a Technic...          2006   \n",
       "\n",
       "   language_id original_language_id  rental_duration  rental_rate  length  \\\n",
       "0            1                 None                6         0.99     113   \n",
       "1            1                 None                6         0.99     113   \n",
       "2            1                 None                6         0.99     113   \n",
       "3            1                 None                6         0.99     113   \n",
       "4            1                 None                6         0.99     113   \n",
       "\n",
       "   replacement_cost rating                               special_features  \\\n",
       "0             20.99     PG  Commentaries,Deleted Scenes,Behind the Scenes   \n",
       "1             20.99     PG  Commentaries,Deleted Scenes,Behind the Scenes   \n",
       "2             20.99     PG  Commentaries,Deleted Scenes,Behind the Scenes   \n",
       "3             20.99     PG  Commentaries,Deleted Scenes,Behind the Scenes   \n",
       "4             20.99     PG  Commentaries,Deleted Scenes,Behind the Scenes   \n",
       "\n",
       "          last_update         last_update    name         last_update  \n",
       "0 2006-02-15 05:03:42 2006-02-15 05:07:09  Action 2006-02-15 04:46:27  \n",
       "1 2006-02-15 05:03:42 2006-02-15 05:07:09  Action 2006-02-15 04:46:27  \n",
       "2 2006-02-15 05:03:42 2006-02-15 05:07:09  Action 2006-02-15 04:46:27  \n",
       "3 2006-02-15 05:03:42 2006-02-15 05:07:09  Action 2006-02-15 04:46:27  \n",
       "4 2006-02-15 05:03:42 2006-02-15 05:07:09  Action 2006-02-15 04:46:27  "
      ]
     },
     "execution_count": 4,
     "metadata": {},
     "output_type": "execute_result"
    }
   ],
   "source": [
    "\n",
    "sak = pd.read_sql_query(\"SELECT * FROM rental JOIN inventory USING (inventory_id) JOIN film USING (film_id) JOIN film_category USING (film_id) JOIN category USING (category_id);\", engine)\n",
    "sak.head()"
   ]
  },
  {
   "cell_type": "markdown",
   "id": "292dd5d3",
   "metadata": {},
   "source": [
    "### 3. Analyze extracted data"
   ]
  },
  {
   "cell_type": "code",
   "execution_count": 5,
   "id": "b06745f9",
   "metadata": {
    "scrolled": true
   },
   "outputs": [
    {
     "name": "stdout",
     "output_type": "stream",
     "text": [
      "<class 'pandas.core.frame.DataFrame'>\n",
      "RangeIndex: 16045 entries, 0 to 16044\n",
      "Data columns (total 26 columns):\n",
      " #   Column                Non-Null Count  Dtype         \n",
      "---  ------                --------------  -----         \n",
      " 0   category_id           16045 non-null  int64         \n",
      " 1   film_id               16045 non-null  int64         \n",
      " 2   inventory_id          16045 non-null  int64         \n",
      " 3   rental_id             16045 non-null  int64         \n",
      " 4   rental_date           16045 non-null  datetime64[ns]\n",
      " 5   customer_id           16045 non-null  int64         \n",
      " 6   return_date           15862 non-null  datetime64[ns]\n",
      " 7   staff_id              16045 non-null  int64         \n",
      " 8   last_update           16045 non-null  datetime64[ns]\n",
      " 9   store_id              16045 non-null  int64         \n",
      " 10  last_update           16045 non-null  datetime64[ns]\n",
      " 11  title                 16045 non-null  object        \n",
      " 12  description           16045 non-null  object        \n",
      " 13  release_year          16045 non-null  int64         \n",
      " 14  language_id           16045 non-null  int64         \n",
      " 15  original_language_id  0 non-null      object        \n",
      " 16  rental_duration       16045 non-null  int64         \n",
      " 17  rental_rate           16045 non-null  float64       \n",
      " 18  length                16045 non-null  int64         \n",
      " 19  replacement_cost      16045 non-null  float64       \n",
      " 20  rating                16045 non-null  object        \n",
      " 21  special_features      16045 non-null  object        \n",
      " 22  last_update           16045 non-null  datetime64[ns]\n",
      " 23  last_update           16045 non-null  datetime64[ns]\n",
      " 24  name                  16045 non-null  object        \n",
      " 25  last_update           16045 non-null  datetime64[ns]\n",
      "dtypes: datetime64[ns](7), float64(2), int64(11), object(6)\n",
      "memory usage: 3.2+ MB\n"
     ]
    }
   ],
   "source": [
    "sak.info()\n",
    "# checking nulls"
   ]
  },
  {
   "cell_type": "code",
   "execution_count": 6,
   "id": "c510ce2a",
   "metadata": {},
   "outputs": [
    {
     "data": {
      "text/plain": [
       "Index(['category_id', 'film_id', 'inventory_id', 'rental_id', 'rental_date',\n",
       "       'customer_id', 'return_date', 'staff_id', 'last_update', 'store_id',\n",
       "       'last_update', 'title', 'description', 'release_year', 'language_id',\n",
       "       'original_language_id', 'rental_duration', 'rental_rate', 'length',\n",
       "       'replacement_cost', 'rating', 'special_features', 'last_update',\n",
       "       'last_update', 'name', 'last_update'],\n",
       "      dtype='object')"
      ]
     },
     "execution_count": 6,
     "metadata": {},
     "output_type": "execute_result"
    }
   ],
   "source": [
    "sak.columns"
   ]
  },
  {
   "cell_type": "code",
   "execution_count": 7,
   "id": "226b515f",
   "metadata": {},
   "outputs": [],
   "source": [
    "# dropping some columns. thought of adding language table, mas the movies are all in english\n",
    "\n",
    "sak = sak.drop([\"rental_id\" , \"category_id\",\"return_date\", \"film_id\", \"inventory_id\", \"customer_id\",\"description\",\"language_id\",\n",
    "                'original_language_id','special_features','last_update'], axis=1)"
   ]
  },
  {
   "cell_type": "code",
   "execution_count": 8,
   "id": "5e89bc52",
   "metadata": {},
   "outputs": [
    {
     "data": {
      "text/html": [
       "<div>\n",
       "<style scoped>\n",
       "    .dataframe tbody tr th:only-of-type {\n",
       "        vertical-align: middle;\n",
       "    }\n",
       "\n",
       "    .dataframe tbody tr th {\n",
       "        vertical-align: top;\n",
       "    }\n",
       "\n",
       "    .dataframe thead th {\n",
       "        text-align: right;\n",
       "    }\n",
       "</style>\n",
       "<table border=\"1\" class=\"dataframe\">\n",
       "  <thead>\n",
       "    <tr style=\"text-align: right;\">\n",
       "      <th></th>\n",
       "      <th>rental_date</th>\n",
       "      <th>staff_id</th>\n",
       "      <th>store_id</th>\n",
       "      <th>title</th>\n",
       "      <th>release_year</th>\n",
       "      <th>rental_duration</th>\n",
       "      <th>rental_rate</th>\n",
       "      <th>length</th>\n",
       "      <th>replacement_cost</th>\n",
       "      <th>rating</th>\n",
       "      <th>name</th>\n",
       "    </tr>\n",
       "  </thead>\n",
       "  <tbody>\n",
       "    <tr>\n",
       "      <th>0</th>\n",
       "      <td>2005-08-02 01:16:59</td>\n",
       "      <td>2</td>\n",
       "      <td>1</td>\n",
       "      <td>AMADEUS HOLY</td>\n",
       "      <td>2006</td>\n",
       "      <td>6</td>\n",
       "      <td>0.99</td>\n",
       "      <td>113</td>\n",
       "      <td>20.99</td>\n",
       "      <td>PG</td>\n",
       "      <td>Action</td>\n",
       "    </tr>\n",
       "    <tr>\n",
       "      <th>1</th>\n",
       "      <td>2005-08-18 04:26:54</td>\n",
       "      <td>2</td>\n",
       "      <td>1</td>\n",
       "      <td>AMADEUS HOLY</td>\n",
       "      <td>2006</td>\n",
       "      <td>6</td>\n",
       "      <td>0.99</td>\n",
       "      <td>113</td>\n",
       "      <td>20.99</td>\n",
       "      <td>PG</td>\n",
       "      <td>Action</td>\n",
       "    </tr>\n",
       "    <tr>\n",
       "      <th>2</th>\n",
       "      <td>2005-06-20 20:35:28</td>\n",
       "      <td>1</td>\n",
       "      <td>1</td>\n",
       "      <td>AMADEUS HOLY</td>\n",
       "      <td>2006</td>\n",
       "      <td>6</td>\n",
       "      <td>0.99</td>\n",
       "      <td>113</td>\n",
       "      <td>20.99</td>\n",
       "      <td>PG</td>\n",
       "      <td>Action</td>\n",
       "    </tr>\n",
       "    <tr>\n",
       "      <th>3</th>\n",
       "      <td>2005-07-09 05:01:58</td>\n",
       "      <td>2</td>\n",
       "      <td>1</td>\n",
       "      <td>AMADEUS HOLY</td>\n",
       "      <td>2006</td>\n",
       "      <td>6</td>\n",
       "      <td>0.99</td>\n",
       "      <td>113</td>\n",
       "      <td>20.99</td>\n",
       "      <td>PG</td>\n",
       "      <td>Action</td>\n",
       "    </tr>\n",
       "    <tr>\n",
       "      <th>4</th>\n",
       "      <td>2005-07-30 08:02:39</td>\n",
       "      <td>1</td>\n",
       "      <td>1</td>\n",
       "      <td>AMADEUS HOLY</td>\n",
       "      <td>2006</td>\n",
       "      <td>6</td>\n",
       "      <td>0.99</td>\n",
       "      <td>113</td>\n",
       "      <td>20.99</td>\n",
       "      <td>PG</td>\n",
       "      <td>Action</td>\n",
       "    </tr>\n",
       "  </tbody>\n",
       "</table>\n",
       "</div>"
      ],
      "text/plain": [
       "          rental_date  staff_id  store_id         title  release_year  \\\n",
       "0 2005-08-02 01:16:59         2         1  AMADEUS HOLY          2006   \n",
       "1 2005-08-18 04:26:54         2         1  AMADEUS HOLY          2006   \n",
       "2 2005-06-20 20:35:28         1         1  AMADEUS HOLY          2006   \n",
       "3 2005-07-09 05:01:58         2         1  AMADEUS HOLY          2006   \n",
       "4 2005-07-30 08:02:39         1         1  AMADEUS HOLY          2006   \n",
       "\n",
       "   rental_duration  rental_rate  length  replacement_cost rating    name  \n",
       "0                6         0.99     113             20.99     PG  Action  \n",
       "1                6         0.99     113             20.99     PG  Action  \n",
       "2                6         0.99     113             20.99     PG  Action  \n",
       "3                6         0.99     113             20.99     PG  Action  \n",
       "4                6         0.99     113             20.99     PG  Action  "
      ]
     },
     "execution_count": 8,
     "metadata": {},
     "output_type": "execute_result"
    }
   ],
   "source": [
    "sak.head()"
   ]
  },
  {
   "cell_type": "code",
   "execution_count": 9,
   "id": "2241bbcb",
   "metadata": {},
   "outputs": [
    {
     "data": {
      "text/plain": [
       "array([6, 3, 5, 7, 4])"
      ]
     },
     "execution_count": 9,
     "metadata": {},
     "output_type": "execute_result"
    }
   ],
   "source": [
    "sak[\"rental_duration\"].unique()"
   ]
  },
  {
   "cell_type": "code",
   "execution_count": 10,
   "id": "fae16d81",
   "metadata": {},
   "outputs": [
    {
     "data": {
      "text/html": [
       "<div>\n",
       "<style scoped>\n",
       "    .dataframe tbody tr th:only-of-type {\n",
       "        vertical-align: middle;\n",
       "    }\n",
       "\n",
       "    .dataframe tbody tr th {\n",
       "        vertical-align: top;\n",
       "    }\n",
       "\n",
       "    .dataframe thead th {\n",
       "        text-align: right;\n",
       "    }\n",
       "</style>\n",
       "<table border=\"1\" class=\"dataframe\">\n",
       "  <thead>\n",
       "    <tr style=\"text-align: right;\">\n",
       "      <th></th>\n",
       "      <th>rental_date</th>\n",
       "      <th>staff_id</th>\n",
       "      <th>store_id</th>\n",
       "      <th>title</th>\n",
       "      <th>release_year</th>\n",
       "      <th>rental_duration</th>\n",
       "      <th>rental_rate</th>\n",
       "      <th>length</th>\n",
       "      <th>replacement_cost</th>\n",
       "      <th>rating</th>\n",
       "      <th>name</th>\n",
       "    </tr>\n",
       "  </thead>\n",
       "  <tbody>\n",
       "    <tr>\n",
       "      <th>0</th>\n",
       "      <td>08-2005</td>\n",
       "      <td>2</td>\n",
       "      <td>1</td>\n",
       "      <td>AMADEUS HOLY</td>\n",
       "      <td>2006</td>\n",
       "      <td>6</td>\n",
       "      <td>0.99</td>\n",
       "      <td>113</td>\n",
       "      <td>20.99</td>\n",
       "      <td>PG</td>\n",
       "      <td>Action</td>\n",
       "    </tr>\n",
       "    <tr>\n",
       "      <th>1</th>\n",
       "      <td>08-2005</td>\n",
       "      <td>2</td>\n",
       "      <td>1</td>\n",
       "      <td>AMADEUS HOLY</td>\n",
       "      <td>2006</td>\n",
       "      <td>6</td>\n",
       "      <td>0.99</td>\n",
       "      <td>113</td>\n",
       "      <td>20.99</td>\n",
       "      <td>PG</td>\n",
       "      <td>Action</td>\n",
       "    </tr>\n",
       "    <tr>\n",
       "      <th>2</th>\n",
       "      <td>06-2005</td>\n",
       "      <td>1</td>\n",
       "      <td>1</td>\n",
       "      <td>AMADEUS HOLY</td>\n",
       "      <td>2006</td>\n",
       "      <td>6</td>\n",
       "      <td>0.99</td>\n",
       "      <td>113</td>\n",
       "      <td>20.99</td>\n",
       "      <td>PG</td>\n",
       "      <td>Action</td>\n",
       "    </tr>\n",
       "    <tr>\n",
       "      <th>3</th>\n",
       "      <td>07-2005</td>\n",
       "      <td>2</td>\n",
       "      <td>1</td>\n",
       "      <td>AMADEUS HOLY</td>\n",
       "      <td>2006</td>\n",
       "      <td>6</td>\n",
       "      <td>0.99</td>\n",
       "      <td>113</td>\n",
       "      <td>20.99</td>\n",
       "      <td>PG</td>\n",
       "      <td>Action</td>\n",
       "    </tr>\n",
       "    <tr>\n",
       "      <th>4</th>\n",
       "      <td>07-2005</td>\n",
       "      <td>1</td>\n",
       "      <td>1</td>\n",
       "      <td>AMADEUS HOLY</td>\n",
       "      <td>2006</td>\n",
       "      <td>6</td>\n",
       "      <td>0.99</td>\n",
       "      <td>113</td>\n",
       "      <td>20.99</td>\n",
       "      <td>PG</td>\n",
       "      <td>Action</td>\n",
       "    </tr>\n",
       "  </tbody>\n",
       "</table>\n",
       "</div>"
      ],
      "text/plain": [
       "  rental_date  staff_id  store_id         title  release_year  \\\n",
       "0     08-2005         2         1  AMADEUS HOLY          2006   \n",
       "1     08-2005         2         1  AMADEUS HOLY          2006   \n",
       "2     06-2005         1         1  AMADEUS HOLY          2006   \n",
       "3     07-2005         2         1  AMADEUS HOLY          2006   \n",
       "4     07-2005         1         1  AMADEUS HOLY          2006   \n",
       "\n",
       "   rental_duration  rental_rate  length  replacement_cost rating    name  \n",
       "0                6         0.99     113             20.99     PG  Action  \n",
       "1                6         0.99     113             20.99     PG  Action  \n",
       "2                6         0.99     113             20.99     PG  Action  \n",
       "3                6         0.99     113             20.99     PG  Action  \n",
       "4                6         0.99     113             20.99     PG  Action  "
      ]
     },
     "execution_count": 10,
     "metadata": {},
     "output_type": "execute_result"
    }
   ],
   "source": [
    "# modify the date to month and year... the day is not relevant in this \"project\"\n",
    "sak['rental_date'] = sak['rental_date'].dt.strftime(\"%m-%Y\")\n",
    "sak.head()"
   ]
  },
  {
   "cell_type": "code",
   "execution_count": 11,
   "id": "d226fd79",
   "metadata": {},
   "outputs": [
    {
     "data": {
      "text/html": [
       "<div>\n",
       "<style scoped>\n",
       "    .dataframe tbody tr th:only-of-type {\n",
       "        vertical-align: middle;\n",
       "    }\n",
       "\n",
       "    .dataframe tbody tr th {\n",
       "        vertical-align: top;\n",
       "    }\n",
       "\n",
       "    .dataframe thead th {\n",
       "        text-align: right;\n",
       "    }\n",
       "</style>\n",
       "<table border=\"1\" class=\"dataframe\">\n",
       "  <thead>\n",
       "    <tr style=\"text-align: right;\">\n",
       "      <th></th>\n",
       "      <th>rental_date</th>\n",
       "      <th>staff_id</th>\n",
       "      <th>store_id</th>\n",
       "      <th>title</th>\n",
       "      <th>release_year</th>\n",
       "      <th>rental_duration</th>\n",
       "      <th>rental_rate</th>\n",
       "      <th>length</th>\n",
       "      <th>replacement_cost</th>\n",
       "      <th>rating</th>\n",
       "      <th>name</th>\n",
       "      <th>rented_last_month_?</th>\n",
       "    </tr>\n",
       "  </thead>\n",
       "  <tbody>\n",
       "    <tr>\n",
       "      <th>0</th>\n",
       "      <td>08-2005</td>\n",
       "      <td>2</td>\n",
       "      <td>1</td>\n",
       "      <td>AMADEUS HOLY</td>\n",
       "      <td>2006</td>\n",
       "      <td>6</td>\n",
       "      <td>0.99</td>\n",
       "      <td>113</td>\n",
       "      <td>20.99</td>\n",
       "      <td>PG</td>\n",
       "      <td>Action</td>\n",
       "      <td>False</td>\n",
       "    </tr>\n",
       "    <tr>\n",
       "      <th>1</th>\n",
       "      <td>08-2005</td>\n",
       "      <td>2</td>\n",
       "      <td>1</td>\n",
       "      <td>AMADEUS HOLY</td>\n",
       "      <td>2006</td>\n",
       "      <td>6</td>\n",
       "      <td>0.99</td>\n",
       "      <td>113</td>\n",
       "      <td>20.99</td>\n",
       "      <td>PG</td>\n",
       "      <td>Action</td>\n",
       "      <td>False</td>\n",
       "    </tr>\n",
       "    <tr>\n",
       "      <th>2</th>\n",
       "      <td>06-2005</td>\n",
       "      <td>1</td>\n",
       "      <td>1</td>\n",
       "      <td>AMADEUS HOLY</td>\n",
       "      <td>2006</td>\n",
       "      <td>6</td>\n",
       "      <td>0.99</td>\n",
       "      <td>113</td>\n",
       "      <td>20.99</td>\n",
       "      <td>PG</td>\n",
       "      <td>Action</td>\n",
       "      <td>False</td>\n",
       "    </tr>\n",
       "    <tr>\n",
       "      <th>3</th>\n",
       "      <td>07-2005</td>\n",
       "      <td>2</td>\n",
       "      <td>1</td>\n",
       "      <td>AMADEUS HOLY</td>\n",
       "      <td>2006</td>\n",
       "      <td>6</td>\n",
       "      <td>0.99</td>\n",
       "      <td>113</td>\n",
       "      <td>20.99</td>\n",
       "      <td>PG</td>\n",
       "      <td>Action</td>\n",
       "      <td>False</td>\n",
       "    </tr>\n",
       "    <tr>\n",
       "      <th>4</th>\n",
       "      <td>07-2005</td>\n",
       "      <td>1</td>\n",
       "      <td>1</td>\n",
       "      <td>AMADEUS HOLY</td>\n",
       "      <td>2006</td>\n",
       "      <td>6</td>\n",
       "      <td>0.99</td>\n",
       "      <td>113</td>\n",
       "      <td>20.99</td>\n",
       "      <td>PG</td>\n",
       "      <td>Action</td>\n",
       "      <td>False</td>\n",
       "    </tr>\n",
       "  </tbody>\n",
       "</table>\n",
       "</div>"
      ],
      "text/plain": [
       "  rental_date  staff_id  store_id         title  release_year  \\\n",
       "0     08-2005         2         1  AMADEUS HOLY          2006   \n",
       "1     08-2005         2         1  AMADEUS HOLY          2006   \n",
       "2     06-2005         1         1  AMADEUS HOLY          2006   \n",
       "3     07-2005         2         1  AMADEUS HOLY          2006   \n",
       "4     07-2005         1         1  AMADEUS HOLY          2006   \n",
       "\n",
       "   rental_duration  rental_rate  length  replacement_cost rating    name  \\\n",
       "0                6         0.99     113             20.99     PG  Action   \n",
       "1                6         0.99     113             20.99     PG  Action   \n",
       "2                6         0.99     113             20.99     PG  Action   \n",
       "3                6         0.99     113             20.99     PG  Action   \n",
       "4                6         0.99     113             20.99     PG  Action   \n",
       "\n",
       "   rented_last_month_?  \n",
       "0                False  \n",
       "1                False  \n",
       "2                False  \n",
       "3                False  \n",
       "4                False  "
      ]
     },
     "execution_count": 11,
     "metadata": {},
     "output_type": "execute_result"
    }
   ],
   "source": [
    "sak['rented_last_month_?'] = sak[\"rental_date\"] == \"02-2006\"\n",
    "sak.head()"
   ]
  },
  {
   "cell_type": "code",
   "execution_count": 12,
   "id": "0a1aab76",
   "metadata": {},
   "outputs": [
    {
     "data": {
      "text/html": [
       "<div>\n",
       "<style scoped>\n",
       "    .dataframe tbody tr th:only-of-type {\n",
       "        vertical-align: middle;\n",
       "    }\n",
       "\n",
       "    .dataframe tbody tr th {\n",
       "        vertical-align: top;\n",
       "    }\n",
       "\n",
       "    .dataframe thead th {\n",
       "        text-align: right;\n",
       "    }\n",
       "</style>\n",
       "<table border=\"1\" class=\"dataframe\">\n",
       "  <thead>\n",
       "    <tr style=\"text-align: right;\">\n",
       "      <th></th>\n",
       "      <th>rental_date</th>\n",
       "      <th>staff_id</th>\n",
       "      <th>store_id</th>\n",
       "      <th>title</th>\n",
       "      <th>release_year</th>\n",
       "      <th>rental_duration</th>\n",
       "      <th>rental_rate</th>\n",
       "      <th>length</th>\n",
       "      <th>replacement_cost</th>\n",
       "      <th>rating</th>\n",
       "      <th>name</th>\n",
       "      <th>rented_last_month_?</th>\n",
       "    </tr>\n",
       "  </thead>\n",
       "  <tbody>\n",
       "    <tr>\n",
       "      <th>5106</th>\n",
       "      <td>02-2023</td>\n",
       "      <td>1</td>\n",
       "      <td>1</td>\n",
       "      <td>ACADEMY DINOSAUR</td>\n",
       "      <td>2006</td>\n",
       "      <td>6</td>\n",
       "      <td>0.99</td>\n",
       "      <td>86</td>\n",
       "      <td>20.99</td>\n",
       "      <td>PG</td>\n",
       "      <td>Documentary</td>\n",
       "      <td>False</td>\n",
       "    </tr>\n",
       "  </tbody>\n",
       "</table>\n",
       "</div>"
      ],
      "text/plain": [
       "     rental_date  staff_id  store_id             title  release_year  \\\n",
       "5106     02-2023         1         1  ACADEMY DINOSAUR          2006   \n",
       "\n",
       "      rental_duration  rental_rate  length  replacement_cost rating  \\\n",
       "5106                6         0.99      86             20.99     PG   \n",
       "\n",
       "             name  rented_last_month_?  \n",
       "5106  Documentary                False  "
      ]
     },
     "execution_count": 12,
     "metadata": {},
     "output_type": "execute_result"
    }
   ],
   "source": [
    "# just checking\n",
    "sak_t = sak[sak[\"rental_date\"] == \"02-2023\"]\n",
    "sak_t.head(10)"
   ]
  },
  {
   "cell_type": "code",
   "execution_count": 13,
   "id": "21054a41",
   "metadata": {},
   "outputs": [
    {
     "data": {
      "text/plain": [
       "array([2, 1])"
      ]
     },
     "execution_count": 13,
     "metadata": {},
     "output_type": "execute_result"
    }
   ],
   "source": [
    "sak[\"staff_id\"].unique()"
   ]
  },
  {
   "cell_type": "code",
   "execution_count": 14,
   "id": "54f1e225",
   "metadata": {},
   "outputs": [
    {
     "data": {
      "text/plain": [
       "array([1, 2])"
      ]
     },
     "execution_count": 14,
     "metadata": {},
     "output_type": "execute_result"
    }
   ],
   "source": [
    "sak[\"store_id\"].unique()"
   ]
  },
  {
   "cell_type": "code",
   "execution_count": 15,
   "id": "6c39a6cd",
   "metadata": {},
   "outputs": [
    {
     "data": {
      "text/plain": [
       "958"
      ]
     },
     "execution_count": 15,
     "metadata": {},
     "output_type": "execute_result"
    }
   ],
   "source": [
    "sak[\"title\"].nunique()"
   ]
  },
  {
   "cell_type": "code",
   "execution_count": 16,
   "id": "3530d882",
   "metadata": {},
   "outputs": [
    {
     "data": {
      "text/plain": [
       "array([2006])"
      ]
     },
     "execution_count": 16,
     "metadata": {},
     "output_type": "execute_result"
    }
   ],
   "source": [
    "sak[\"release_year\"].unique() #DROP IT"
   ]
  },
  {
   "cell_type": "code",
   "execution_count": 17,
   "id": "e5916015",
   "metadata": {},
   "outputs": [
    {
     "data": {
      "text/html": [
       "<div>\n",
       "<style scoped>\n",
       "    .dataframe tbody tr th:only-of-type {\n",
       "        vertical-align: middle;\n",
       "    }\n",
       "\n",
       "    .dataframe tbody tr th {\n",
       "        vertical-align: top;\n",
       "    }\n",
       "\n",
       "    .dataframe thead th {\n",
       "        text-align: right;\n",
       "    }\n",
       "</style>\n",
       "<table border=\"1\" class=\"dataframe\">\n",
       "  <thead>\n",
       "    <tr style=\"text-align: right;\">\n",
       "      <th></th>\n",
       "      <th>rental_date</th>\n",
       "      <th>staff_id</th>\n",
       "      <th>store_id</th>\n",
       "      <th>title</th>\n",
       "      <th>rental_duration</th>\n",
       "      <th>rental_rate</th>\n",
       "      <th>length</th>\n",
       "      <th>replacement_cost</th>\n",
       "      <th>rating</th>\n",
       "      <th>name</th>\n",
       "      <th>rented_last_month_?</th>\n",
       "    </tr>\n",
       "  </thead>\n",
       "  <tbody>\n",
       "    <tr>\n",
       "      <th>0</th>\n",
       "      <td>08-2005</td>\n",
       "      <td>2</td>\n",
       "      <td>1</td>\n",
       "      <td>AMADEUS HOLY</td>\n",
       "      <td>6</td>\n",
       "      <td>0.99</td>\n",
       "      <td>113</td>\n",
       "      <td>20.99</td>\n",
       "      <td>PG</td>\n",
       "      <td>Action</td>\n",
       "      <td>False</td>\n",
       "    </tr>\n",
       "    <tr>\n",
       "      <th>1</th>\n",
       "      <td>08-2005</td>\n",
       "      <td>2</td>\n",
       "      <td>1</td>\n",
       "      <td>AMADEUS HOLY</td>\n",
       "      <td>6</td>\n",
       "      <td>0.99</td>\n",
       "      <td>113</td>\n",
       "      <td>20.99</td>\n",
       "      <td>PG</td>\n",
       "      <td>Action</td>\n",
       "      <td>False</td>\n",
       "    </tr>\n",
       "    <tr>\n",
       "      <th>2</th>\n",
       "      <td>06-2005</td>\n",
       "      <td>1</td>\n",
       "      <td>1</td>\n",
       "      <td>AMADEUS HOLY</td>\n",
       "      <td>6</td>\n",
       "      <td>0.99</td>\n",
       "      <td>113</td>\n",
       "      <td>20.99</td>\n",
       "      <td>PG</td>\n",
       "      <td>Action</td>\n",
       "      <td>False</td>\n",
       "    </tr>\n",
       "    <tr>\n",
       "      <th>3</th>\n",
       "      <td>07-2005</td>\n",
       "      <td>2</td>\n",
       "      <td>1</td>\n",
       "      <td>AMADEUS HOLY</td>\n",
       "      <td>6</td>\n",
       "      <td>0.99</td>\n",
       "      <td>113</td>\n",
       "      <td>20.99</td>\n",
       "      <td>PG</td>\n",
       "      <td>Action</td>\n",
       "      <td>False</td>\n",
       "    </tr>\n",
       "    <tr>\n",
       "      <th>4</th>\n",
       "      <td>07-2005</td>\n",
       "      <td>1</td>\n",
       "      <td>1</td>\n",
       "      <td>AMADEUS HOLY</td>\n",
       "      <td>6</td>\n",
       "      <td>0.99</td>\n",
       "      <td>113</td>\n",
       "      <td>20.99</td>\n",
       "      <td>PG</td>\n",
       "      <td>Action</td>\n",
       "      <td>False</td>\n",
       "    </tr>\n",
       "  </tbody>\n",
       "</table>\n",
       "</div>"
      ],
      "text/plain": [
       "  rental_date  staff_id  store_id         title  rental_duration  rental_rate  \\\n",
       "0     08-2005         2         1  AMADEUS HOLY                6         0.99   \n",
       "1     08-2005         2         1  AMADEUS HOLY                6         0.99   \n",
       "2     06-2005         1         1  AMADEUS HOLY                6         0.99   \n",
       "3     07-2005         2         1  AMADEUS HOLY                6         0.99   \n",
       "4     07-2005         1         1  AMADEUS HOLY                6         0.99   \n",
       "\n",
       "   length  replacement_cost rating    name  rented_last_month_?  \n",
       "0     113             20.99     PG  Action                False  \n",
       "1     113             20.99     PG  Action                False  \n",
       "2     113             20.99     PG  Action                False  \n",
       "3     113             20.99     PG  Action                False  \n",
       "4     113             20.99     PG  Action                False  "
      ]
     },
     "execution_count": 17,
     "metadata": {},
     "output_type": "execute_result"
    }
   ],
   "source": [
    "sak = sak.drop([\"release_year\"], axis=1)\n",
    "sak.head()"
   ]
  },
  {
   "cell_type": "code",
   "execution_count": 18,
   "id": "8ec2a0d0",
   "metadata": {
    "scrolled": true
   },
   "outputs": [
    {
     "data": {
      "text/plain": [
       "array([0.99, 4.99, 2.99])"
      ]
     },
     "execution_count": 18,
     "metadata": {},
     "output_type": "execute_result"
    }
   ],
   "source": [
    "sak[\"rental_rate\"].unique()"
   ]
  },
  {
   "cell_type": "code",
   "execution_count": 19,
   "id": "5a3ce9e5",
   "metadata": {},
   "outputs": [
    {
     "data": {
      "text/plain": [
       "array([20.99, 17.99, 11.99, 15.99, 24.99, 21.99, 27.99, 16.99, 13.99,\n",
       "       22.99, 14.99, 12.99, 26.99, 18.99, 19.99, 28.99, 29.99,  9.99,\n",
       "       23.99, 25.99, 10.99])"
      ]
     },
     "execution_count": 19,
     "metadata": {},
     "output_type": "execute_result"
    }
   ],
   "source": [
    "sak[\"replacement_cost\"].unique()"
   ]
  },
  {
   "cell_type": "code",
   "execution_count": 20,
   "id": "13f74e45",
   "metadata": {},
   "outputs": [
    {
     "data": {
      "text/plain": [
       "140"
      ]
     },
     "execution_count": 20,
     "metadata": {},
     "output_type": "execute_result"
    }
   ],
   "source": [
    "sak[\"length\"].nunique()"
   ]
  },
  {
   "cell_type": "code",
   "execution_count": 21,
   "id": "6454942a",
   "metadata": {},
   "outputs": [
    {
     "data": {
      "text/plain": [
       "array(['PG', 'R', 'NC-17', 'G', 'PG-13'], dtype=object)"
      ]
     },
     "execution_count": 21,
     "metadata": {},
     "output_type": "execute_result"
    }
   ],
   "source": [
    "sak[\"rating\"].unique()"
   ]
  },
  {
   "cell_type": "code",
   "execution_count": 22,
   "id": "09a41790",
   "metadata": {},
   "outputs": [
    {
     "data": {
      "text/plain": [
       "array(['Action', 'Animation', 'Children', 'Classics', 'Comedy',\n",
       "       'Documentary', 'Drama', 'Family', 'Foreign', 'Games', 'Horror',\n",
       "       'Music', 'New', 'Sci-Fi', 'Sports', 'Travel'], dtype=object)"
      ]
     },
     "execution_count": 22,
     "metadata": {},
     "output_type": "execute_result"
    }
   ],
   "source": [
    "sak[\"name\"].unique()"
   ]
  },
  {
   "cell_type": "code",
   "execution_count": 23,
   "id": "d9f05ebb",
   "metadata": {},
   "outputs": [
    {
     "data": {
      "text/plain": [
       "BUCKET BROTHERHOOD     34\n",
       "ROCKETEER MOTHER       33\n",
       "RIDGEMONT SUBMARINE    32\n",
       "GRIT CLOCKWORK         32\n",
       "JUGGLER HARDLY         32\n",
       "                       ..\n",
       "INFORMER DOUBLE         5\n",
       "GLORY TRACY             5\n",
       "TRAIN BUNCH             4\n",
       "MIXED DOORS             4\n",
       "HARDLY ROBBERS          4\n",
       "Name: title, Length: 958, dtype: int64"
      ]
     },
     "execution_count": 23,
     "metadata": {},
     "output_type": "execute_result"
    }
   ],
   "source": [
    "sak[\"title\"].value_counts()"
   ]
  },
  {
   "cell_type": "code",
   "execution_count": 24,
   "id": "164bf3af",
   "metadata": {},
   "outputs": [],
   "source": [
    "# divide numerical and categorical"
   ]
  },
  {
   "cell_type": "code",
   "execution_count": 25,
   "id": "f15f3167",
   "metadata": {},
   "outputs": [
    {
     "data": {
      "text/html": [
       "<div>\n",
       "<style scoped>\n",
       "    .dataframe tbody tr th:only-of-type {\n",
       "        vertical-align: middle;\n",
       "    }\n",
       "\n",
       "    .dataframe tbody tr th {\n",
       "        vertical-align: top;\n",
       "    }\n",
       "\n",
       "    .dataframe thead th {\n",
       "        text-align: right;\n",
       "    }\n",
       "</style>\n",
       "<table border=\"1\" class=\"dataframe\">\n",
       "  <thead>\n",
       "    <tr style=\"text-align: right;\">\n",
       "      <th></th>\n",
       "      <th>staff_id</th>\n",
       "      <th>store_id</th>\n",
       "      <th>rental_duration</th>\n",
       "      <th>rental_rate</th>\n",
       "      <th>length</th>\n",
       "      <th>replacement_cost</th>\n",
       "    </tr>\n",
       "  </thead>\n",
       "  <tbody>\n",
       "    <tr>\n",
       "      <th>0</th>\n",
       "      <td>2</td>\n",
       "      <td>1</td>\n",
       "      <td>6</td>\n",
       "      <td>0.99</td>\n",
       "      <td>113</td>\n",
       "      <td>20.99</td>\n",
       "    </tr>\n",
       "    <tr>\n",
       "      <th>1</th>\n",
       "      <td>2</td>\n",
       "      <td>1</td>\n",
       "      <td>6</td>\n",
       "      <td>0.99</td>\n",
       "      <td>113</td>\n",
       "      <td>20.99</td>\n",
       "    </tr>\n",
       "    <tr>\n",
       "      <th>2</th>\n",
       "      <td>1</td>\n",
       "      <td>1</td>\n",
       "      <td>6</td>\n",
       "      <td>0.99</td>\n",
       "      <td>113</td>\n",
       "      <td>20.99</td>\n",
       "    </tr>\n",
       "    <tr>\n",
       "      <th>3</th>\n",
       "      <td>2</td>\n",
       "      <td>1</td>\n",
       "      <td>6</td>\n",
       "      <td>0.99</td>\n",
       "      <td>113</td>\n",
       "      <td>20.99</td>\n",
       "    </tr>\n",
       "    <tr>\n",
       "      <th>4</th>\n",
       "      <td>1</td>\n",
       "      <td>1</td>\n",
       "      <td>6</td>\n",
       "      <td>0.99</td>\n",
       "      <td>113</td>\n",
       "      <td>20.99</td>\n",
       "    </tr>\n",
       "  </tbody>\n",
       "</table>\n",
       "</div>"
      ],
      "text/plain": [
       "   staff_id  store_id  rental_duration  rental_rate  length  replacement_cost\n",
       "0         2         1                6         0.99     113             20.99\n",
       "1         2         1                6         0.99     113             20.99\n",
       "2         1         1                6         0.99     113             20.99\n",
       "3         2         1                6         0.99     113             20.99\n",
       "4         1         1                6         0.99     113             20.99"
      ]
     },
     "execution_count": 25,
     "metadata": {},
     "output_type": "execute_result"
    }
   ],
   "source": [
    "num_sak = sak.select_dtypes(include=[\"int64\",\"float64\"])\n",
    "num_sak.head()"
   ]
  },
  {
   "cell_type": "code",
   "execution_count": 26,
   "id": "77dfa083",
   "metadata": {},
   "outputs": [],
   "source": [
    "# will treat the staff id and store id as categoricals so, i'll drop them from the numerical"
   ]
  },
  {
   "cell_type": "code",
   "execution_count": 27,
   "id": "3a07469d",
   "metadata": {},
   "outputs": [
    {
     "data": {
      "text/html": [
       "<div>\n",
       "<style scoped>\n",
       "    .dataframe tbody tr th:only-of-type {\n",
       "        vertical-align: middle;\n",
       "    }\n",
       "\n",
       "    .dataframe tbody tr th {\n",
       "        vertical-align: top;\n",
       "    }\n",
       "\n",
       "    .dataframe thead th {\n",
       "        text-align: right;\n",
       "    }\n",
       "</style>\n",
       "<table border=\"1\" class=\"dataframe\">\n",
       "  <thead>\n",
       "    <tr style=\"text-align: right;\">\n",
       "      <th></th>\n",
       "      <th>rental_duration</th>\n",
       "      <th>rental_rate</th>\n",
       "      <th>length</th>\n",
       "      <th>replacement_cost</th>\n",
       "    </tr>\n",
       "  </thead>\n",
       "  <tbody>\n",
       "    <tr>\n",
       "      <th>0</th>\n",
       "      <td>6</td>\n",
       "      <td>0.99</td>\n",
       "      <td>113</td>\n",
       "      <td>20.99</td>\n",
       "    </tr>\n",
       "    <tr>\n",
       "      <th>1</th>\n",
       "      <td>6</td>\n",
       "      <td>0.99</td>\n",
       "      <td>113</td>\n",
       "      <td>20.99</td>\n",
       "    </tr>\n",
       "    <tr>\n",
       "      <th>2</th>\n",
       "      <td>6</td>\n",
       "      <td>0.99</td>\n",
       "      <td>113</td>\n",
       "      <td>20.99</td>\n",
       "    </tr>\n",
       "    <tr>\n",
       "      <th>3</th>\n",
       "      <td>6</td>\n",
       "      <td>0.99</td>\n",
       "      <td>113</td>\n",
       "      <td>20.99</td>\n",
       "    </tr>\n",
       "    <tr>\n",
       "      <th>4</th>\n",
       "      <td>6</td>\n",
       "      <td>0.99</td>\n",
       "      <td>113</td>\n",
       "      <td>20.99</td>\n",
       "    </tr>\n",
       "  </tbody>\n",
       "</table>\n",
       "</div>"
      ],
      "text/plain": [
       "   rental_duration  rental_rate  length  replacement_cost\n",
       "0                6         0.99     113             20.99\n",
       "1                6         0.99     113             20.99\n",
       "2                6         0.99     113             20.99\n",
       "3                6         0.99     113             20.99\n",
       "4                6         0.99     113             20.99"
      ]
     },
     "execution_count": 27,
     "metadata": {},
     "output_type": "execute_result"
    }
   ],
   "source": [
    "num_sak = num_sak.drop([\"staff_id\", \"store_id\"], axis=1)\n",
    "num_sak.head()"
   ]
  },
  {
   "cell_type": "code",
   "execution_count": 28,
   "id": "76d13633",
   "metadata": {},
   "outputs": [
    {
     "data": {
      "image/png": "[encoded data removed]",
      "text/plain": [
       "<Figure size 640x480 with 1 Axes>"
      ]
     },
     "metadata": {},
     "output_type": "display_data"
    },
    {
     "data": {
      "image/png": "[encoded data removed]",
      "text/plain": [
       "<Figure size 640x480 with 1 Axes>"
      ]
     },
     "metadata": {},
     "output_type": "display_data"
    },
    {
     "data": {
      "image/png": "[encoded data removed]",
      "text/plain": [
       "<Figure size 640x480 with 1 Axes>"
      ]
     },
     "metadata": {},
     "output_type": "display_data"
    },
    {
     "data": {
      "image/png": "[encoded data removed]",
      "text/plain": [
       "<Figure size 640x480 with 1 Axes>"
      ]
     },
     "metadata": {},
     "output_type": "display_data"
    }
   ],
   "source": [
    "for column in num_sak.columns:\n",
    "    sns.distplot(num_sak[column])\n",
    "    plt.show()"
   ]
  },
  {
   "cell_type": "code",
   "execution_count": 29,
   "id": "ab1ecaad",
   "metadata": {},
   "outputs": [
    {
     "data": {
      "image/png": "[encoded data removed]",
      "text/plain": [
       "<Figure size 1000x800 with 2 Axes>"
      ]
     },
     "metadata": {},
     "output_type": "display_data"
    }
   ],
   "source": [
    "corr_matrix=num_sak.corr(method='pearson')  # default\n",
    "fig, ax = plt.subplots(figsize=(10, 8))\n",
    "ax = sns.heatmap(corr_matrix, annot=True)\n",
    "plt.show()"
   ]
  },
  {
   "cell_type": "code",
   "execution_count": 30,
   "id": "fbf6ac4c",
   "metadata": {},
   "outputs": [
    {
     "data": {
      "text/html": [
       "<div>\n",
       "<style scoped>\n",
       "    .dataframe tbody tr th:only-of-type {\n",
       "        vertical-align: middle;\n",
       "    }\n",
       "\n",
       "    .dataframe tbody tr th {\n",
       "        vertical-align: top;\n",
       "    }\n",
       "\n",
       "    .dataframe thead th {\n",
       "        text-align: right;\n",
       "    }\n",
       "</style>\n",
       "<table border=\"1\" class=\"dataframe\">\n",
       "  <thead>\n",
       "    <tr style=\"text-align: right;\">\n",
       "      <th></th>\n",
       "      <th>rental_date</th>\n",
       "      <th>staff_id</th>\n",
       "      <th>store_id</th>\n",
       "      <th>replacement_cost</th>\n",
       "      <th>rating</th>\n",
       "      <th>name</th>\n",
       "      <th>rented_last_month_?</th>\n",
       "    </tr>\n",
       "  </thead>\n",
       "  <tbody>\n",
       "    <tr>\n",
       "      <th>0</th>\n",
       "      <td>08-2005</td>\n",
       "      <td>2</td>\n",
       "      <td>1</td>\n",
       "      <td>20.99</td>\n",
       "      <td>PG</td>\n",
       "      <td>Action</td>\n",
       "      <td>False</td>\n",
       "    </tr>\n",
       "    <tr>\n",
       "      <th>1</th>\n",
       "      <td>08-2005</td>\n",
       "      <td>2</td>\n",
       "      <td>1</td>\n",
       "      <td>20.99</td>\n",
       "      <td>PG</td>\n",
       "      <td>Action</td>\n",
       "      <td>False</td>\n",
       "    </tr>\n",
       "    <tr>\n",
       "      <th>2</th>\n",
       "      <td>06-2005</td>\n",
       "      <td>1</td>\n",
       "      <td>1</td>\n",
       "      <td>20.99</td>\n",
       "      <td>PG</td>\n",
       "      <td>Action</td>\n",
       "      <td>False</td>\n",
       "    </tr>\n",
       "    <tr>\n",
       "      <th>3</th>\n",
       "      <td>07-2005</td>\n",
       "      <td>2</td>\n",
       "      <td>1</td>\n",
       "      <td>20.99</td>\n",
       "      <td>PG</td>\n",
       "      <td>Action</td>\n",
       "      <td>False</td>\n",
       "    </tr>\n",
       "    <tr>\n",
       "      <th>4</th>\n",
       "      <td>07-2005</td>\n",
       "      <td>1</td>\n",
       "      <td>1</td>\n",
       "      <td>20.99</td>\n",
       "      <td>PG</td>\n",
       "      <td>Action</td>\n",
       "      <td>False</td>\n",
       "    </tr>\n",
       "  </tbody>\n",
       "</table>\n",
       "</div>"
      ],
      "text/plain": [
       "  rental_date  staff_id  store_id  replacement_cost rating    name  \\\n",
       "0     08-2005         2         1             20.99     PG  Action   \n",
       "1     08-2005         2         1             20.99     PG  Action   \n",
       "2     06-2005         1         1             20.99     PG  Action   \n",
       "3     07-2005         2         1             20.99     PG  Action   \n",
       "4     07-2005         1         1             20.99     PG  Action   \n",
       "\n",
       "   rented_last_month_?  \n",
       "0                False  \n",
       "1                False  \n",
       "2                False  \n",
       "3                False  \n",
       "4                False  "
      ]
     },
     "execution_count": 30,
     "metadata": {},
     "output_type": "execute_result"
    }
   ],
   "source": [
    "cat_sak = sak.drop([\"title\",\"rental_duration\",\"rental_rate\",\"length\"], axis = 1)\n",
    "cat_sak.head()"
   ]
  },
  {
   "cell_type": "code",
   "execution_count": 31,
   "id": "3576ed8a",
   "metadata": {},
   "outputs": [],
   "source": [
    "# encoding categorical"
   ]
  },
  {
   "cell_type": "code",
   "execution_count": 32,
   "id": "ff6a02a3",
   "metadata": {},
   "outputs": [
    {
     "data": {
      "text/html": [
       "<div>\n",
       "<style scoped>\n",
       "    .dataframe tbody tr th:only-of-type {\n",
       "        vertical-align: middle;\n",
       "    }\n",
       "\n",
       "    .dataframe tbody tr th {\n",
       "        vertical-align: top;\n",
       "    }\n",
       "\n",
       "    .dataframe thead th {\n",
       "        text-align: right;\n",
       "    }\n",
       "</style>\n",
       "<table border=\"1\" class=\"dataframe\">\n",
       "  <thead>\n",
       "    <tr style=\"text-align: right;\">\n",
       "      <th></th>\n",
       "      <th>staff_id</th>\n",
       "      <th>store_id</th>\n",
       "      <th>replacement_cost</th>\n",
       "      <th>rented_last_month_?</th>\n",
       "      <th>rental_date_02-2023</th>\n",
       "      <th>rental_date_05-2005</th>\n",
       "      <th>rental_date_06-2005</th>\n",
       "      <th>rental_date_07-2005</th>\n",
       "      <th>rental_date_08-2005</th>\n",
       "      <th>rating_NC-17</th>\n",
       "      <th>rating_PG</th>\n",
       "      <th>rating_PG-13</th>\n",
       "      <th>rating_R</th>\n",
       "      <th>name_Animation</th>\n",
       "      <th>name_Children</th>\n",
       "      <th>name_Classics</th>\n",
       "      <th>name_Comedy</th>\n",
       "      <th>name_Documentary</th>\n",
       "      <th>name_Drama</th>\n",
       "      <th>name_Family</th>\n",
       "      <th>name_Foreign</th>\n",
       "      <th>name_Games</th>\n",
       "      <th>name_Horror</th>\n",
       "      <th>name_Music</th>\n",
       "      <th>name_New</th>\n",
       "      <th>name_Sci-Fi</th>\n",
       "      <th>name_Sports</th>\n",
       "      <th>name_Travel</th>\n",
       "    </tr>\n",
       "  </thead>\n",
       "  <tbody>\n",
       "    <tr>\n",
       "      <th>0</th>\n",
       "      <td>2</td>\n",
       "      <td>1</td>\n",
       "      <td>20.99</td>\n",
       "      <td>False</td>\n",
       "      <td>0</td>\n",
       "      <td>0</td>\n",
       "      <td>0</td>\n",
       "      <td>0</td>\n",
       "      <td>1</td>\n",
       "      <td>0</td>\n",
       "      <td>1</td>\n",
       "      <td>0</td>\n",
       "      <td>0</td>\n",
       "      <td>0</td>\n",
       "      <td>0</td>\n",
       "      <td>0</td>\n",
       "      <td>0</td>\n",
       "      <td>0</td>\n",
       "      <td>0</td>\n",
       "      <td>0</td>\n",
       "      <td>0</td>\n",
       "      <td>0</td>\n",
       "      <td>0</td>\n",
       "      <td>0</td>\n",
       "      <td>0</td>\n",
       "      <td>0</td>\n",
       "      <td>0</td>\n",
       "      <td>0</td>\n",
       "    </tr>\n",
       "    <tr>\n",
       "      <th>1</th>\n",
       "      <td>2</td>\n",
       "      <td>1</td>\n",
       "      <td>20.99</td>\n",
       "      <td>False</td>\n",
       "      <td>0</td>\n",
       "      <td>0</td>\n",
       "      <td>0</td>\n",
       "      <td>0</td>\n",
       "      <td>1</td>\n",
       "      <td>0</td>\n",
       "      <td>1</td>\n",
       "      <td>0</td>\n",
       "      <td>0</td>\n",
       "      <td>0</td>\n",
       "      <td>0</td>\n",
       "      <td>0</td>\n",
       "      <td>0</td>\n",
       "      <td>0</td>\n",
       "      <td>0</td>\n",
       "      <td>0</td>\n",
       "      <td>0</td>\n",
       "      <td>0</td>\n",
       "      <td>0</td>\n",
       "      <td>0</td>\n",
       "      <td>0</td>\n",
       "      <td>0</td>\n",
       "      <td>0</td>\n",
       "      <td>0</td>\n",
       "    </tr>\n",
       "    <tr>\n",
       "      <th>2</th>\n",
       "      <td>1</td>\n",
       "      <td>1</td>\n",
       "      <td>20.99</td>\n",
       "      <td>False</td>\n",
       "      <td>0</td>\n",
       "      <td>0</td>\n",
       "      <td>1</td>\n",
       "      <td>0</td>\n",
       "      <td>0</td>\n",
       "      <td>0</td>\n",
       "      <td>1</td>\n",
       "      <td>0</td>\n",
       "      <td>0</td>\n",
       "      <td>0</td>\n",
       "      <td>0</td>\n",
       "      <td>0</td>\n",
       "      <td>0</td>\n",
       "      <td>0</td>\n",
       "      <td>0</td>\n",
       "      <td>0</td>\n",
       "      <td>0</td>\n",
       "      <td>0</td>\n",
       "      <td>0</td>\n",
       "      <td>0</td>\n",
       "      <td>0</td>\n",
       "      <td>0</td>\n",
       "      <td>0</td>\n",
       "      <td>0</td>\n",
       "    </tr>\n",
       "    <tr>\n",
       "      <th>3</th>\n",
       "      <td>2</td>\n",
       "      <td>1</td>\n",
       "      <td>20.99</td>\n",
       "      <td>False</td>\n",
       "      <td>0</td>\n",
       "      <td>0</td>\n",
       "      <td>0</td>\n",
       "      <td>1</td>\n",
       "      <td>0</td>\n",
       "      <td>0</td>\n",
       "      <td>1</td>\n",
       "      <td>0</td>\n",
       "      <td>0</td>\n",
       "      <td>0</td>\n",
       "      <td>0</td>\n",
       "      <td>0</td>\n",
       "      <td>0</td>\n",
       "      <td>0</td>\n",
       "      <td>0</td>\n",
       "      <td>0</td>\n",
       "      <td>0</td>\n",
       "      <td>0</td>\n",
       "      <td>0</td>\n",
       "      <td>0</td>\n",
       "      <td>0</td>\n",
       "      <td>0</td>\n",
       "      <td>0</td>\n",
       "      <td>0</td>\n",
       "    </tr>\n",
       "    <tr>\n",
       "      <th>4</th>\n",
       "      <td>1</td>\n",
       "      <td>1</td>\n",
       "      <td>20.99</td>\n",
       "      <td>False</td>\n",
       "      <td>0</td>\n",
       "      <td>0</td>\n",
       "      <td>0</td>\n",
       "      <td>1</td>\n",
       "      <td>0</td>\n",
       "      <td>0</td>\n",
       "      <td>1</td>\n",
       "      <td>0</td>\n",
       "      <td>0</td>\n",
       "      <td>0</td>\n",
       "      <td>0</td>\n",
       "      <td>0</td>\n",
       "      <td>0</td>\n",
       "      <td>0</td>\n",
       "      <td>0</td>\n",
       "      <td>0</td>\n",
       "      <td>0</td>\n",
       "      <td>0</td>\n",
       "      <td>0</td>\n",
       "      <td>0</td>\n",
       "      <td>0</td>\n",
       "      <td>0</td>\n",
       "      <td>0</td>\n",
       "      <td>0</td>\n",
       "    </tr>\n",
       "  </tbody>\n",
       "</table>\n",
       "</div>"
      ],
      "text/plain": [
       "   staff_id  store_id  replacement_cost  rented_last_month_?  \\\n",
       "0         2         1             20.99                False   \n",
       "1         2         1             20.99                False   \n",
       "2         1         1             20.99                False   \n",
       "3         2         1             20.99                False   \n",
       "4         1         1             20.99                False   \n",
       "\n",
       "   rental_date_02-2023  rental_date_05-2005  rental_date_06-2005  \\\n",
       "0                    0                    0                    0   \n",
       "1                    0                    0                    0   \n",
       "2                    0                    0                    1   \n",
       "3                    0                    0                    0   \n",
       "4                    0                    0                    0   \n",
       "\n",
       "   rental_date_07-2005  rental_date_08-2005  rating_NC-17  rating_PG  \\\n",
       "0                    0                    1             0          1   \n",
       "1                    0                    1             0          1   \n",
       "2                    0                    0             0          1   \n",
       "3                    1                    0             0          1   \n",
       "4                    1                    0             0          1   \n",
       "\n",
       "   rating_PG-13  rating_R  name_Animation  name_Children  name_Classics  \\\n",
       "0             0         0               0              0              0   \n",
       "1             0         0               0              0              0   \n",
       "2             0         0               0              0              0   \n",
       "3             0         0               0              0              0   \n",
       "4             0         0               0              0              0   \n",
       "\n",
       "   name_Comedy  name_Documentary  name_Drama  name_Family  name_Foreign  \\\n",
       "0            0                 0           0            0             0   \n",
       "1            0                 0           0            0             0   \n",
       "2            0                 0           0            0             0   \n",
       "3            0                 0           0            0             0   \n",
       "4            0                 0           0            0             0   \n",
       "\n",
       "   name_Games  name_Horror  name_Music  name_New  name_Sci-Fi  name_Sports  \\\n",
       "0           0            0           0         0            0            0   \n",
       "1           0            0           0         0            0            0   \n",
       "2           0            0           0         0            0            0   \n",
       "3           0            0           0         0            0            0   \n",
       "4           0            0           0         0            0            0   \n",
       "\n",
       "   name_Travel  \n",
       "0            0  \n",
       "1            0  \n",
       "2            0  \n",
       "3            0  \n",
       "4            0  "
      ]
     },
     "execution_count": 32,
     "metadata": {},
     "output_type": "execute_result"
    }
   ],
   "source": [
    "cat_sak_dumm = pd.get_dummies(cat_sak, drop_first = True)\n",
    "cat_sak_dumm.head()"
   ]
  },
  {
   "cell_type": "code",
   "execution_count": 33,
   "id": "9277553b",
   "metadata": {},
   "outputs": [],
   "source": [
    "# X-y split"
   ]
  },
  {
   "cell_type": "code",
   "execution_count": 34,
   "id": "0f442cf0",
   "metadata": {},
   "outputs": [],
   "source": [
    "y = cat_sak['rented_last_month_?'] \n",
    "X = np.concatenate((num_sak, cat_sak_dumm), axis=1) "
   ]
  },
  {
   "cell_type": "code",
   "execution_count": 35,
   "id": "0fb047b6",
   "metadata": {},
   "outputs": [],
   "source": [
    "X_train, X_test, y_train, y_test = train_test_split(X, y, test_size=0.3, random_state=100)"
   ]
  },
  {
   "cell_type": "code",
   "execution_count": 36,
   "id": "760ba450",
   "metadata": {},
   "outputs": [
    {
     "data": {
      "text/plain": [
       "11231"
      ]
     },
     "execution_count": 36,
     "metadata": {},
     "output_type": "execute_result"
    }
   ],
   "source": [
    "len(X_train)"
   ]
  },
  {
   "cell_type": "code",
   "execution_count": 37,
   "id": "82e822c4",
   "metadata": {},
   "outputs": [
    {
     "data": {
      "text/plain": [
       "4814"
      ]
     },
     "execution_count": 37,
     "metadata": {},
     "output_type": "execute_result"
    }
   ],
   "source": [
    "len(X_test)"
   ]
  },
  {
   "cell_type": "code",
   "execution_count": 38,
   "id": "bbde4594",
   "metadata": {},
   "outputs": [
    {
     "data": {
      "text/plain": [
       "5777     False\n",
       "4666     False\n",
       "12047    False\n",
       "6139     False\n",
       "1245     False\n",
       "         ...  \n",
       "12119    False\n",
       "8039     False\n",
       "14147    False\n",
       "6936     False\n",
       "5640     False\n",
       "Name: rented_last_month_?, Length: 11231, dtype: bool"
      ]
     },
     "execution_count": 38,
     "metadata": {},
     "output_type": "execute_result"
    }
   ],
   "source": [
    "y_train"
   ]
  },
  {
   "cell_type": "code",
   "execution_count": null,
   "id": "4b869170",
   "metadata": {},
   "outputs": [],
   "source": [
    "# Apply model"
   ]
  },
  {
   "cell_type": "code",
   "execution_count": 39,
   "id": "dc688f24",
   "metadata": {},
   "outputs": [],
   "source": [
    "classification = LogisticRegression(random_state=0,multi_class='multinomial').fit(X_train, y_train)"
   ]
  },
  {
   "cell_type": "code",
   "execution_count": 40,
   "id": "c6671ed8",
   "metadata": {},
   "outputs": [],
   "source": [
    "predictions = classification.predict(X_test)"
   ]
  },
  {
   "cell_type": "code",
   "execution_count": 41,
   "id": "17a600bf",
   "metadata": {},
   "outputs": [
    {
     "data": {
      "text/plain": [
       "False    4765\n",
       "True       49\n",
       "dtype: int64"
      ]
     },
     "execution_count": 41,
     "metadata": {},
     "output_type": "execute_result"
    }
   ],
   "source": [
    "pd.Series(predictions).value_counts()"
   ]
  },
  {
   "cell_type": "code",
   "execution_count": 42,
   "id": "e3c33528",
   "metadata": {},
   "outputs": [
    {
     "data": {
      "text/plain": [
       "False    4765\n",
       "True       49\n",
       "Name: rented_last_month_?, dtype: int64"
      ]
     },
     "execution_count": 42,
     "metadata": {},
     "output_type": "execute_result"
    }
   ],
   "source": [
    "y_test.value_counts()"
   ]
  },
  {
   "cell_type": "code",
   "execution_count": null,
   "id": "015522a1",
   "metadata": {},
   "outputs": [],
   "source": [
    "# Evaluate model with confusion matrix and accuracy"
   ]
  },
  {
   "cell_type": "code",
   "execution_count": 43,
   "id": "4b442e45",
   "metadata": {},
   "outputs": [
    {
     "data": {
      "text/plain": [
       "array([[4765,    0],\n",
       "       [   0,   49]])"
      ]
     },
     "execution_count": 43,
     "metadata": {},
     "output_type": "execute_result"
    }
   ],
   "source": [
    "from sklearn.metrics import confusion_matrix\n",
    "confusion_matrix(y_test, predictions)"
   ]
  },
  {
   "cell_type": "code",
   "execution_count": 46,
   "id": "4ac8bb07",
   "metadata": {
    "scrolled": true
   },
   "outputs": [],
   "source": [
    "cm = confusion_matrix(y_test,predictions)"
   ]
  },
  {
   "cell_type": "code",
   "execution_count": 53,
   "id": "c1e6502f",
   "metadata": {},
   "outputs": [
    {
     "data": {
      "image/png": "[encoded data removed]",
      "text/plain": [
       "<Figure size 640x480 with 2 Axes>"
      ]
     },
     "metadata": {},
     "output_type": "display_data"
    }
   ],
   "source": [
    "cm = confusion_matrix(y_test, predictions)\n",
    "\n",
    "disp = ConfusionMatrixDisplay(confusion_matrix=cm)\n",
    "disp.plot(cmap='Reds')\n",
    "plt.show()"
   ]
  },
  {
   "cell_type": "code",
   "execution_count": 48,
   "id": "c8d705b7",
   "metadata": {},
   "outputs": [],
   "source": [
    "# Evaluate model"
   ]
  },
  {
   "cell_type": "code",
   "execution_count": 49,
   "id": "42e9c111",
   "metadata": {},
   "outputs": [
    {
     "data": {
      "text/plain": [
       "1.0"
      ]
     },
     "execution_count": 49,
     "metadata": {},
     "output_type": "execute_result"
    }
   ],
   "source": [
    "classification.score(X_test, y_test)"
   ]
  },
  {
   "cell_type": "code",
   "execution_count": 50,
   "id": "5d7a165b",
   "metadata": {},
   "outputs": [
    {
     "name": "stdout",
     "output_type": "stream",
     "text": [
      "\n",
      "Accuracy: 1.00\n",
      "\n"
     ]
    }
   ],
   "source": [
    "from sklearn.metrics import accuracy_score\n",
    "print('\\nAccuracy: {:.2f}\\n'.format(accuracy_score(y_test, predictions)))"
   ]
  },
  {
   "cell_type": "code",
   "execution_count": 51,
   "id": "7f6749b8",
   "metadata": {},
   "outputs": [
    {
     "data": {
      "text/plain": [
       "[<matplotlib.lines.Line2D at 0x7fa3148e1160>]"
      ]
     },
     "execution_count": 51,
     "metadata": {},
     "output_type": "execute_result"
    },
    {
     "data": {
      "image/png": "[encoded data removed]",
      "text/plain": [
       "<Figure size 640x480 with 1 Axes>"
      ]
     },
     "metadata": {},
     "output_type": "display_data"
    }
   ],
   "source": [
    "from sklearn import metrics\n",
    "import matplotlib.pyplot as plt\n",
    "\n",
    "y_pred_proba = classification.predict_proba(X_test)[::,1]\n",
    "fpr, tpr, _ = metrics.roc_curve(y_test,  y_pred_proba)\n",
    "auc = metrics.roc_auc_score(y_test, y_pred_proba)\n",
    "plt.plot(fpr,tpr)"
   ]
  },
  {
   "cell_type": "code",
   "execution_count": null,
   "id": "e54be578",
   "metadata": {},
   "outputs": [],
   "source": []
  }
 ],
 "metadata": {
  "kernelspec": {
   "display_name": "Python 3 (ipykernel)",
   "language": "python",
   "name": "python3"
  },
  "language_info": {
   "codemirror_mode": {
    "name": "ipython",
    "version": 3
   },
   "file_extension": ".py",
   "mimetype": "text/x-python",
   "name": "python",
   "nbconvert_exporter": "python",
   "pygments_lexer": "ipython3",
   "version": "3.9.13"
  }
 },
 "nbformat": 4,
 "nbformat_minor": 5
}
